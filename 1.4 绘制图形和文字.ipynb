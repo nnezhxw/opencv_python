{
 "cells": [
  {
   "cell_type": "markdown",
   "metadata": {},
   "source": [
    "参考资料：\n",
    "- https://docs.opencv.org/master/dc/da5/tutorial_py_drawing_functions.html"
   ]
  },
  {
   "cell_type": "code",
   "execution_count": 19,
   "metadata": {},
   "outputs": [
    {
     "data": {
      "text/plain": [
       "-1"
      ]
     },
     "execution_count": 19,
     "metadata": {},
     "output_type": "execute_result"
    }
   ],
   "source": [
    "import numpy as np\n",
    "import cv2 as cv\n",
    "\n",
    "\n",
    "# 绘制一张黑色的图片\n",
    "img = np.zeros((512, 512, 3), np.uint8)\n",
    "\n",
    "# 绘制一条蓝色的线\n",
    "cv.line(img, (0, 0), (511, 511), (255, 0, 0), 5)\n",
    "\n",
    "# 绘制一个矩形\n",
    "## (384, 0) : 左上角坐标\n",
    "## (510, 128) : 右下角坐标\n",
    "## 3 : 线条的粗细。如果设置为-1， 则颜色填充整个矩形。\n",
    "cv.rectangle(img, (384, 0), (510, 128), (0, 255, 0), 3)\n",
    "\n",
    "# 绘制一个圆形\n",
    "## (447, 63) : 圆心位置\n",
    "## 63 : 半径\n",
    "cv.circle(img, (447, 63), 63, (0, 0, 255), -1)\n",
    "\n",
    "# 绘制一个椭圆\n",
    "## (256, 256) : 椭圆中心位置\n",
    "## (100, 50) : 长轴和短轴的长度\n",
    "## 第一个0 ： 椭圆的旋转角度（逆时针）\n",
    "## 第二个0 ： 椭圆初始绘制点的角度\n",
    "## 360 :      椭圆最终绘制点的角度\n",
    "## (0, 255, 255): 椭圆的颜色\n",
    "cv.ellipse(img, (256, 256), (100, 50), 0, 0, 360, (0, 255, 255), -1)\n",
    "\n",
    "# 绘制多边形\n",
    "## 因为工作中用上的概率很小，暂时不作记录\n",
    "\n",
    "# 在图片中添加文字\n",
    "## (10, 500) : 文字左下角的位置\n",
    "## 4 : 文字大小\n",
    "font = cv.FONT_HERSHEY_SIMPLEX\n",
    "cv.putText(img, 'OpenCV', (10, 500), font, 4, (255, 255, 255), 2, cv.LINE_AA)\n",
    "\n",
    "cv.imshow(\"img\",img)\n",
    "cv.waitKey(0)"
   ]
  }
 ],
 "metadata": {
  "kernelspec": {
   "display_name": "Python 3",
   "language": "python",
   "name": "python3"
  },
  "language_info": {
   "codemirror_mode": {
    "name": "ipython",
    "version": 3
   },
   "file_extension": ".py",
   "mimetype": "text/x-python",
   "name": "python",
   "nbconvert_exporter": "python",
   "pygments_lexer": "ipython3",
   "version": "3.7.4"
  }
 },
 "nbformat": 4,
 "nbformat_minor": 2
}
