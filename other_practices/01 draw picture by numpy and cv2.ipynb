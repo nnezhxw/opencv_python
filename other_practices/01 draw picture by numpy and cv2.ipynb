{
 "cells": [
  {
   "cell_type": "code",
   "execution_count": 6,
   "metadata": {},
   "outputs": [
    {
     "data": {
      "text/plain": [
       "-1"
      ]
     },
     "execution_count": 6,
     "metadata": {},
     "output_type": "execute_result"
    }
   ],
   "source": [
    "import numpy \n",
    "import cv2\n",
    "\n",
    "img = numpy.zeros([300, 500, 3])\n",
    "\n",
    "img[:, :, 0] = numpy.ones([300, 500])*64/255.0\n",
    "img[:, :, 1] = numpy.ones([300, 500])*128/255.0\n",
    "img[:, :, 2] = numpy.ones([300, 500])*192/255.0\n",
    "\n",
    "cv2.imshow(\"image\", img)\n",
    "cv2.waitKey()"
   ]
  }
 ],
 "metadata": {
  "kernelspec": {
   "display_name": "Python 3",
   "language": "python",
   "name": "python3"
  },
  "language_info": {
   "codemirror_mode": {
    "name": "ipython",
    "version": 3
   },
   "file_extension": ".py",
   "mimetype": "text/x-python",
   "name": "python",
   "nbconvert_exporter": "python",
   "pygments_lexer": "ipython3",
   "version": "3.7.4"
  }
 },
 "nbformat": 4,
 "nbformat_minor": 2
}
