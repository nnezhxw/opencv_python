{
 "cells": [
  {
   "cell_type": "markdown",
   "metadata": {},
   "source": [
    "参考资料\n",
    "- https://docs.opencv.org/master/d3/df2/tutorial_py_basic_ops.html"
   ]
  },
  {
   "cell_type": "code",
   "execution_count": 1,
   "metadata": {},
   "outputs": [
    {
     "data": {
      "text/plain": [
       "<Figure size 800x800 with 1 Axes>"
      ]
     },
     "metadata": {},
     "output_type": "display_data"
    }
   ],
   "source": [
    "import numpy as np\n",
    "import cv2 as cv\n",
    "import matplotlib.pyplot as plt\n",
    "\n",
    "img = cv.imread('./01_data/messi5.jpg')\n",
    "\n",
    "## 280:340 y轴方向的起始位置和终止位置\n",
    "## 330:390 x轴方向的起始位置和终止位置\n",
    "ball = img[280:340, 330:390]\n",
    "img[280:340, 50:110] = ball\n",
    "\n",
    "# 显示图片\n",
    "# 方法1\n",
    "# cv.imshow('img', img)\n",
    "# cv.waitKey(0)\n",
    "\n",
    "# 方法2\n",
    "plt.figure(figsize=(8, 8))\n",
    "plt.xticks([])\n",
    "plt.yticks([])\n",
    "plt.imshow(img[:,:,::-1])\n",
    "plt.show()"
   ]
  }
 ],
 "metadata": {
  "kernelspec": {
   "display_name": "Python 3",
   "language": "python",
   "name": "python3"
  },
  "language_info": {
   "codemirror_mode": {
    "name": "ipython",
    "version": 3
   },
   "file_extension": ".py",
   "mimetype": "text/x-python",
   "name": "python",
   "nbconvert_exporter": "python",
   "pygments_lexer": "ipython3",
   "version": "3.7.4"
  }
 },
 "nbformat": 4,
 "nbformat_minor": 2
}
