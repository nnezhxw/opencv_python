{
 "cells": [
  {
   "cell_type": "code",
   "execution_count": null,
   "metadata": {},
   "outputs": [],
   "source": [
    "import cv2 as cv\n",
    "import matplotlib.pyplot as plt\n",
    "\n",
    "img1 = cv.imread('./01_data/messi5.jpg')\n",
    "img2 = cv.imread('./01_data/opencv-logo.png')\n",
    "\n",
    "\n",
    "rows, cols, channels = img2.shape\n",
    "roi = img1[0:rows, 0:cols]\n",
    "\n",
    "img2gray = cv.cvtColor(img2, cv.COLOR_BGR2GRAY)\n",
    "# 生成一个文字和图案部分为白色，背景全为黑色的mask\n",
    "## 因为文字和图案部分的颜色值大于10， 所以通过threshold方法后，\n",
    "## 它们都会全部转换成255（白色）， 而背景则维持黑色（0）\n",
    "ret, mask = cv.threshold(img2gray, 10, 255, cv.THRESH_BINARY)\n",
    "# 生成一个文字和图案部分为黑色，背景为白色的mask(mask_inv)\n",
    "mask_inv = cv.bitwise_not(mask)\n",
    "\n",
    "# 从roi中挖掉mask_inv的为0（黑色的文字和图案）的部分。\n",
    "## bitwise_and用来合并两张图片中mask不为0（不是黑色）的部分。\n",
    "img1_bg = cv.bitwise_and(roi, roi, mask = mask_inv)\n",
    "\n",
    "# cv.imshow(\"1\", img2gray)\n",
    "# cv.imshow(\"1\",mask_inv)\n",
    "cv.imshow(\"1\", img1_bg)\n",
    "cv.waitKey(0)"
   ]
  }
 ],
 "metadata": {
  "kernelspec": {
   "display_name": "Python 3",
   "language": "python",
   "name": "python3"
  },
  "language_info": {
   "codemirror_mode": {
    "name": "ipython",
    "version": 3
   },
   "file_extension": ".py",
   "mimetype": "text/x-python",
   "name": "python",
   "nbconvert_exporter": "python",
   "pygments_lexer": "ipython3",
   "version": "3.7.4"
  }
 },
 "nbformat": 4,
 "nbformat_minor": 2
}
