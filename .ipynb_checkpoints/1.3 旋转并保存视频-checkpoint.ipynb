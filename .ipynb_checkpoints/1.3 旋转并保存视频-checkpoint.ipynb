{
 "cells": [
  {
   "cell_type": "code",
   "execution_count": 10,
   "metadata": {},
   "outputs": [
    {
     "name": "stdout",
     "output_type": "stream",
     "text": [
      "Can't receive frame (stream end?). Exiting...\n"
     ]
    }
   ],
   "source": [
    "import numpy as np\n",
    "import cv2 as cv\n",
    "\n",
    "cap = cv.VideoCapture('./01_data/20200719.mp4')\n",
    "\n",
    "# Define the codec(编码器) and create VideoWriter object\n",
    "fourcc = cv.VideoWriter_fourcc(*'XVID')\n",
    "# 获取原视频尺寸\n",
    "capture_size = (int(cap.get(3)), int(cap.get(4)))\n",
    "# 设置VideoWriter（视频绘制器？）\n",
    "out = cv.VideoWriter('./01_data/output2.avi', fourcc, 20.0, capture_size)\n",
    "# 因为原视频的尺寸不是640*480，所以使用下面这段代码的时候，视频无法正确保存。\n",
    "# out = cv.VideoWriter('./01_data/output2.avi', fourcc, 20.0, (640, 480))\n",
    "\n",
    "while cap.isOpened():\n",
    "    ret, frame = cap.read()\n",
    "    if ret:\n",
    "        # 将视频上下翻转\n",
    "        frame = cv.flip(frame, 0)\n",
    "    \n",
    "        # write the flipped frame\n",
    "        out.write(frame)\n",
    "    \n",
    "        cv.imshow('frame', frame)\n",
    "        if cv.waitKey(1) == ord('q'):\n",
    "            break\n",
    "    else:\n",
    "        print(\"Can't receive frame (stream end?). Exiting...\")\n",
    "        break\n",
    "        \n",
    "# Release everything if job is finished\n",
    "cap.release()\n",
    "out.release()\n",
    "cv.destroyAllWindows()\n"
   ]
  }
 ],
 "metadata": {
  "kernelspec": {
   "display_name": "Python 3",
   "language": "python",
   "name": "python3"
  },
  "language_info": {
   "codemirror_mode": {
    "name": "ipython",
    "version": 3
   },
   "file_extension": ".py",
   "mimetype": "text/x-python",
   "name": "python",
   "nbconvert_exporter": "python",
   "pygments_lexer": "ipython3",
   "version": "3.7.4"
  }
 },
 "nbformat": 4,
 "nbformat_minor": 2
}
