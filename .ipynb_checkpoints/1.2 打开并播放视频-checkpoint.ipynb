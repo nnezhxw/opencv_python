{
 "cells": [
  {
   "cell_type": "markdown",
   "metadata": {},
   "source": [
    "参考资料：\n",
    "- https://docs.opencv.org/master/dd/d43/tutorial_py_video_display.html"
   ]
  },
  {
   "cell_type": "code",
   "execution_count": 2,
   "metadata": {},
   "outputs": [],
   "source": [
    "import numpy as np\n",
    "import cv2 as cv\n",
    "\n",
    "# 打开视频\n",
    "cap = cv.VideoCapture('./01_data/20200719.mp4')\n",
    "\n",
    "while cap.isOpened():\n",
    "    # cap.read()用来读取视频，它会返回两个值。\n",
    "    #\n",
    "    # ret是一个bool值，用来表示视频有没有正常读取。\n",
    "    # 如果正常读取了，ret的值为TRUE，反之为False。\n",
    "    #\n",
    "    # frame表示读取到的视频的其中一帧。\n",
    "    # 在while cap.isOpend()的循环里，while循环每执行一次，则frame就会切换到下一帧。\n",
    "    ret, frame = cap.read()\n",
    "    \n",
    "    # if frame is read correctly ret is True\n",
    "    if not ret:\n",
    "        print(\"Can't receive frame (stream end?). Exiting...\")\n",
    "        break\n",
    "    \n",
    "    cv.imshow('frame', frame)\n",
    "    # waitKey(毫秒数) ：设置每一帧等待的时间。如果设置为0的时候，便在某一帧上无限等待直到有用户输入。\n",
    "    if cv.waitKey(25) == ord('q'):\n",
    "        break\n",
    "\n",
    "cap.release()\n",
    "cv.destroyAllWindows()"
   ]
  }
 ],
 "metadata": {
  "kernelspec": {
   "display_name": "Python 3",
   "language": "python",
   "name": "python3"
  },
  "language_info": {
   "codemirror_mode": {
    "name": "ipython",
    "version": 3
   },
   "file_extension": ".py",
   "mimetype": "text/x-python",
   "name": "python",
   "nbconvert_exporter": "python",
   "pygments_lexer": "ipython3",
   "version": "3.7.4"
  }
 },
 "nbformat": 4,
 "nbformat_minor": 2
}
