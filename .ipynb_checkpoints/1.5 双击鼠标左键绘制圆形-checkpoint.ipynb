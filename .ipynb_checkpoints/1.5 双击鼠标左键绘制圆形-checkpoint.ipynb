{
 "cells": [
  {
   "cell_type": "markdown",
   "metadata": {},
   "source": [
    "参考资料：\n",
    "- https://docs.opencv.org/master/db/d5b/tutorial_py_mouse_handling.html"
   ]
  },
  {
   "cell_type": "code",
   "execution_count": 2,
   "metadata": {},
   "outputs": [],
   "source": [
    "import numpy as np\n",
    "import cv2 as cv\n",
    "\n",
    "# 设置双击鼠标左键事件\n",
    "## event : 鼠标事件\n",
    "## x, y : 鼠标坐标\n",
    "## flags : 鼠标事件（event）所对应的标签（感觉跟event的作用差不多）\n",
    "## 其它要传递的一些参数\n",
    "def draw_circle(event, x, y, flags, param):\n",
    "    if event == cv.EVENT_LBUTTONDBLCLK:\n",
    "        cv.circle(img, (x, y), 100, (255, 0, 0), -1)\n",
    "        \n",
    "# 创建一个背景全黑的窗口\n",
    "img = np.zeros((512, 512, 3), np.uint8)\n",
    "cv.namedWindow('image')\n",
    "cv.setMouseCallback('image', draw_circle)\n",
    "\n",
    "while(1):\n",
    "    cv.imshow('image', img)\n",
    "    ## 0xFF是16进制常量11111111， \n",
    "    ## 和 cv.waitKey(20)做与（&）运算之后，只保留waitKey(20)的后8位。\n",
    "    ## 具体原因可以参见这个页面中Sheila的答案：\n",
    "    ## https://stackoverflow.com/questions/35372700/whats-0xff-for-in-cv2-waitkey1\n",
    "    if (cv.waitKey(20) & 0xFF) == 27:\n",
    "        break\n",
    "\n",
    "cv.destroyAllWindows()"
   ]
  }
 ],
 "metadata": {
  "kernelspec": {
   "display_name": "Python 3",
   "language": "python",
   "name": "python3"
  },
  "language_info": {
   "codemirror_mode": {
    "name": "ipython",
    "version": 3
   },
   "file_extension": ".py",
   "mimetype": "text/x-python",
   "name": "python",
   "nbconvert_exporter": "python",
   "pygments_lexer": "ipython3",
   "version": "3.7.4"
  }
 },
 "nbformat": 4,
 "nbformat_minor": 2
}
